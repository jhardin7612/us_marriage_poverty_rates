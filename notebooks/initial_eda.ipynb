{
 "cells": [
  {
   "cell_type": "markdown",
   "metadata": {},
   "source": []
  },
  {
   "cell_type": "code",
   "execution_count": 2,
   "metadata": {},
   "outputs": [],
   "source": [
    "import pandas as pd"
   ]
  },
  {
   "cell_type": "code",
   "execution_count": 46,
   "metadata": {},
   "outputs": [],
   "source": [
    "#Import marriage dataset, remove, header and footer and rename state column\n",
    "marriage_raw = pd.read_excel('../data/state-marriage-rates-90-95-00-22.xlsx', header=5, skipfooter=8)\n",
    "marriage_raw = raw_marriage.dropna()\n",
    "marriage_raw.rename(columns={'Unnamed: 0': 'State'}, inplace=True)"
   ]
  },
  {
   "cell_type": "code",
   "execution_count": 54,
   "metadata": {},
   "outputs": [],
   "source": [
    "#Import divorce dataset, remove header and footer and rename state column\n",
    "divorce_raw = pd.read_excel('../data/state-divorce-rates-90-95-00-22.xlsx', header=5, skipfooter=8)\n",
    "divorce_raw.rename(columns={'Unnamed: 0': 'State'}, inplace=True)\n",
    "divorce_raw = divorce_raw.iloc[1:]\n",
    "\n"
   ]
  },
  {
   "cell_type": "code",
   "execution_count": null,
   "metadata": {},
   "outputs": [],
   "source": [
    "\n"
   ]
  },
  {
   "cell_type": "markdown",
   "metadata": {},
   "source": [
    "marriage set has 50 rows and 26 columns no Nulls\n",
    "divorce 50 rows ans 26 columns with about 10% null vals for each coulmn likely will fill with previous year value if applicable or best central tendency measurement"
   ]
  }
 ],
 "metadata": {
  "kernelspec": {
   "display_name": "base",
   "language": "python",
   "name": "python3"
  },
  "language_info": {
   "codemirror_mode": {
    "name": "ipython",
    "version": 3
   },
   "file_extension": ".py",
   "mimetype": "text/x-python",
   "name": "python",
   "nbconvert_exporter": "python",
   "pygments_lexer": "ipython3",
   "version": "3.11.7"
  }
 },
 "nbformat": 4,
 "nbformat_minor": 2
}
